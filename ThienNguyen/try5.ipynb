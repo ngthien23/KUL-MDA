{
 "cells": [
  {
   "cell_type": "code",
   "execution_count": 8,
   "metadata": {},
   "outputs": [],
   "source": [
    "import folium\n",
    "import pandas as pd\n",
    "import polars as pl\n",
    "\n",
    "# Define paths\n",
    "wea_files = ['LC_2022Q1.csv', 'LC_2022Q2.csv', 'LC_2022Q3.csv', 'LC_2022Q4.csv']\n",
    "id_list = ['439', '440', '441', '910', '442', '443', '444', '445', '324'] # Same order as 1-9 in project.pdf\n",
    "\n",
    "# Load with polars and remove noise stations 7 8 9\n",
    "noise_loc = pl.read_csv('noise_meta.csv')\\\n",
    "            .slice(0,6)\n",
    "wea_loc = pl.read_csv('01_Metadata_v2.csv')\n",
    "wea_prep = pd.read_csv('out/wea_prep.csv')"
   ]
  },
  {
   "cell_type": "code",
   "execution_count": 9,
   "metadata": {},
   "outputs": [],
   "source": [
    "# Load the first dataframe with longitude and latitude coordinates\n",
    "df1 = pd.read_csv('01_Metadata_v2.csv')\n",
    "df2 = pd.read_csv('noise_meta.csv')\n",
    "\n",
    "map_center = [df1['LAT'].iloc[0], df1['LON'].iloc[0]]\n",
    "map_osm = folium.Map(location=map_center, zoom_start=12)\n",
    "\n",
    "# Add markers for locations from the first dataframe\n",
    "for index, row in df1.iterrows():\n",
    "    folium.Marker(location=[row['LAT'], row['LON']]).add_to(map_osm)\n",
    "\n",
    "# Add markers for locations from the second dataframe (marked in red)\n",
    "for index, row in df2.iterrows():\n",
    "    folium.Marker(location=[row['LAT'], row['LON']], icon=folium.Icon(color='red')).add_to(map_osm)\n",
    "\n",
    "# Save the map as an HTML file\n",
    "map_osm.save('map.html')"
   ]
  }
 ],
 "metadata": {
  "kernelspec": {
   "display_name": "MDA-test",
   "language": "python",
   "name": "python3"
  },
  "language_info": {
   "codemirror_mode": {
    "name": "ipython",
    "version": 3
   },
   "file_extension": ".py",
   "mimetype": "text/x-python",
   "name": "python",
   "nbconvert_exporter": "python",
   "pygments_lexer": "ipython3",
   "version": "3.11.3"
  },
  "orig_nbformat": 4
 },
 "nbformat": 4,
 "nbformat_minor": 2
}
