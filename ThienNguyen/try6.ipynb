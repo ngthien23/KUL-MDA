{
 "cells": [
  {
   "cell_type": "code",
   "execution_count": 11,
   "metadata": {},
   "outputs": [],
   "source": [
    "import os\n",
    "import polars as pl\n",
    "import pandas as pd\n",
    "import matplotlib.pyplot as plt\n",
    "import numpy as np\n",
    "import seaborn as sns\n",
    "#import pyarrow as pa\n",
    "#import datetime\n",
    "\n",
    "# Define paths\n",
    "wea_files = ['LC_2022Q1.csv', 'LC_2022Q2.csv', 'LC_2022Q3.csv', 'LC_2022Q4.csv']\n",
    "mp_list = ['MP 01', 'MP 02', 'MP 03', 'MP 04', 'MP 05', 'MP 06', 'MP 07', 'MP 08']\n",
    "mp_list2 = ['MP 01', 'MP 02', 'MP 03', 'MP 05', 'MP 06', 'MP 07']\n",
    "id_list = ['439', '440', '441', '910', '442', '443', '444', '324'] # Same order as 1-9 in project.pdf\n",
    "#id_list = ['439', '440']\n",
    "\n",
    "# Load with polars and remove noise stations 7 8 9\n",
    "noise_loc = pl.read_csv('../noise_meta.csv')\\\n",
    "            .slice(0,6)\n",
    "wea_loc = pl.read_csv('../01_Metadata_v2.csv')\n",
    "wea_prep = pd.read_csv('out/wea_prep.csv')"
   ]
  },
  {
   "cell_type": "code",
   "execution_count": 49,
   "metadata": {},
   "outputs": [],
   "source": [
    "# Preprocess noise level with pandas\n",
    "# Using output_path fixes [Errno 13]\n",
    "def noise_preprocess_csv(folder_path, output_path, names):\n",
    "    noise = pd.DataFrame()\n",
    "    for name in names:\n",
    "        noise_row = pd.DataFrame()\n",
    "        for file_name in os.listdir(folder_path):\n",
    "            if file_name.endswith('.csv') and name in file_name:\n",
    "                file_path = os.path.join(folder_path, file_name)\n",
    "                add = pd.read_csv(file_path, delimiter=';')\n",
    "\n",
    "                add['date'] = add['result_timestamp'].str[0:10]\n",
    "                add = add.groupby(['description', 'date'])['lamax'].mean().reset_index()\n",
    "\n",
    "                add = add.pivot(index='description', columns='date', values='lamax')\n",
    "\n",
    "                noise_row = pd.concat([noise_row, add], axis=1, sort=True)\n",
    "        noise = pd.concat([noise, noise_row], axis=0, sort=False)\n",
    "        noise['description'] = mp_list\n",
    "    noise.to_csv(os.path.join(output_path, 'noise-by-day2.csv'), index=False)\n",
    "\n",
    "    return 0"
   ]
  },
  {
   "cell_type": "code",
   "execution_count": null,
   "metadata": {},
   "outputs": [],
   "source": [
    "noise_preprocess_csv('../noise level/', 'out/', id_list)"
   ]
  },
  {
   "cell_type": "code",
   "execution_count": 2,
   "metadata": {},
   "outputs": [
    {
     "name": "stdout",
     "output_type": "stream",
     "text": [
      "Index(['MP 01: Naamsestraat 35  Maxim', 'MP 02: Naamsestraat 57 Xior',\n",
      "       'MP 03: Naamsestraat 62 Taste', 'MP 04: His & Hears',\n",
      "       'MP 05: Calvariekapel KU Leuven', 'MP 06: Parkstraat 2 La Filosovia',\n",
      "       'MP 07: Naamsestraat 81', 'MP 08: bis - Vrijthof'],\n",
      "      dtype='object')\n"
     ]
    }
   ],
   "source": [
    "import pandas as pd\n",
    "\n",
    "# Assuming your DataFrame is named 'df' with columns 'timestamp' and address columns\n",
    "file_path = '../WentingJiang/data/processed/max_noise_per_minute_per_location.csv'\n",
    "df = pd.read_csv(file_path)\n",
    "\n",
    "# List all the address columns except 'timestamp'\n",
    "address_columns = df.columns[2:]\n",
    "print(address_columns)"
   ]
  },
  {
   "cell_type": "code",
   "execution_count": 3,
   "metadata": {},
   "outputs": [
    {
     "ename": "MemoryError",
     "evalue": "Unable to allocate 28.7 GiB for an array with shape (17281, 223200) and data type float64",
     "output_type": "error",
     "traceback": [
      "\u001b[1;31m---------------------------------------------------------------------------\u001b[0m",
      "\u001b[1;31mMemoryError\u001b[0m                               Traceback (most recent call last)",
      "Cell \u001b[1;32mIn[3], line 8\u001b[0m\n\u001b[0;32m      6\u001b[0m     row \u001b[39m=\u001b[39m row\u001b[39m.\u001b[39mpivot(columns\u001b[39m=\u001b[39m\u001b[39m'\u001b[39m\u001b[39mtimestamp\u001b[39m\u001b[39m'\u001b[39m, values\u001b[39m=\u001b[39maddress)\n\u001b[0;32m      7\u001b[0m     row[\u001b[39m'\u001b[39m\u001b[39mdescription\u001b[39m\u001b[39m'\u001b[39m] \u001b[39m=\u001b[39m address\n\u001b[1;32m----> 8\u001b[0m     pivoted \u001b[39m=\u001b[39m pd\u001b[39m.\u001b[39;49mconcat([pivoted, row], axis\u001b[39m=\u001b[39;49m\u001b[39m0\u001b[39;49m, sort\u001b[39m=\u001b[39;49m\u001b[39mFalse\u001b[39;49;00m)\n\u001b[0;32m      9\u001b[0m pivoted\u001b[39m.\u001b[39mto_csv(os\u001b[39m.\u001b[39mpath\u001b[39m.\u001b[39mjoin(\u001b[39m'\u001b[39m\u001b[39mout/\u001b[39m\u001b[39m'\u001b[39m, \u001b[39m'\u001b[39m\u001b[39mnoise-by-10min.csv\u001b[39m\u001b[39m'\u001b[39m), index\u001b[39m=\u001b[39m\u001b[39mFalse\u001b[39;00m)\n",
      "File \u001b[1;32mc:\\Users\\camd1\\miniconda3\\envs\\MDA-test\\Lib\\site-packages\\pandas\\core\\reshape\\concat.py:385\u001b[0m, in \u001b[0;36mconcat\u001b[1;34m(objs, axis, join, ignore_index, keys, levels, names, verify_integrity, sort, copy)\u001b[0m\n\u001b[0;32m    370\u001b[0m     copy \u001b[39m=\u001b[39m \u001b[39mFalse\u001b[39;00m\n\u001b[0;32m    372\u001b[0m op \u001b[39m=\u001b[39m _Concatenator(\n\u001b[0;32m    373\u001b[0m     objs,\n\u001b[0;32m    374\u001b[0m     axis\u001b[39m=\u001b[39maxis,\n\u001b[1;32m   (...)\u001b[0m\n\u001b[0;32m    382\u001b[0m     sort\u001b[39m=\u001b[39msort,\n\u001b[0;32m    383\u001b[0m )\n\u001b[1;32m--> 385\u001b[0m \u001b[39mreturn\u001b[39;00m op\u001b[39m.\u001b[39;49mget_result()\n",
      "File \u001b[1;32mc:\\Users\\camd1\\miniconda3\\envs\\MDA-test\\Lib\\site-packages\\pandas\\core\\reshape\\concat.py:616\u001b[0m, in \u001b[0;36m_Concatenator.get_result\u001b[1;34m(self)\u001b[0m\n\u001b[0;32m    612\u001b[0m             indexers[ax] \u001b[39m=\u001b[39m obj_labels\u001b[39m.\u001b[39mget_indexer(new_labels)\n\u001b[0;32m    614\u001b[0m     mgrs_indexers\u001b[39m.\u001b[39mappend((obj\u001b[39m.\u001b[39m_mgr, indexers))\n\u001b[1;32m--> 616\u001b[0m new_data \u001b[39m=\u001b[39m concatenate_managers(\n\u001b[0;32m    617\u001b[0m     mgrs_indexers, \u001b[39mself\u001b[39;49m\u001b[39m.\u001b[39;49mnew_axes, concat_axis\u001b[39m=\u001b[39;49m\u001b[39mself\u001b[39;49m\u001b[39m.\u001b[39;49mbm_axis, copy\u001b[39m=\u001b[39;49m\u001b[39mself\u001b[39;49m\u001b[39m.\u001b[39;49mcopy\n\u001b[0;32m    618\u001b[0m )\n\u001b[0;32m    619\u001b[0m \u001b[39mif\u001b[39;00m \u001b[39mnot\u001b[39;00m \u001b[39mself\u001b[39m\u001b[39m.\u001b[39mcopy \u001b[39mand\u001b[39;00m \u001b[39mnot\u001b[39;00m using_copy_on_write():\n\u001b[0;32m    620\u001b[0m     new_data\u001b[39m.\u001b[39m_consolidate_inplace()\n",
      "File \u001b[1;32mc:\\Users\\camd1\\miniconda3\\envs\\MDA-test\\Lib\\site-packages\\pandas\\core\\internals\\concat.py:232\u001b[0m, in \u001b[0;36mconcatenate_managers\u001b[1;34m(mgrs_indexers, axes, concat_axis, copy)\u001b[0m\n\u001b[0;32m    226\u001b[0m vals \u001b[39m=\u001b[39m [ju\u001b[39m.\u001b[39mblock\u001b[39m.\u001b[39mvalues \u001b[39mfor\u001b[39;00m ju \u001b[39min\u001b[39;00m join_units]\n\u001b[0;32m    228\u001b[0m \u001b[39mif\u001b[39;00m \u001b[39mnot\u001b[39;00m blk\u001b[39m.\u001b[39mis_extension:\n\u001b[0;32m    229\u001b[0m     \u001b[39m# _is_uniform_join_units ensures a single dtype, so\u001b[39;00m\n\u001b[0;32m    230\u001b[0m     \u001b[39m#  we can use np.concatenate, which is more performant\u001b[39;00m\n\u001b[0;32m    231\u001b[0m     \u001b[39m#  than concat_compat\u001b[39;00m\n\u001b[1;32m--> 232\u001b[0m     values \u001b[39m=\u001b[39m np\u001b[39m.\u001b[39;49mconcatenate(vals, axis\u001b[39m=\u001b[39;49m\u001b[39m1\u001b[39;49m)\n\u001b[0;32m    233\u001b[0m \u001b[39melse\u001b[39;00m:\n\u001b[0;32m    234\u001b[0m     \u001b[39m# TODO(EA2D): special-casing not needed with 2D EAs\u001b[39;00m\n\u001b[0;32m    235\u001b[0m     values \u001b[39m=\u001b[39m concat_compat(vals, axis\u001b[39m=\u001b[39m\u001b[39m1\u001b[39m)\n",
      "File \u001b[1;32m<__array_function__ internals>:200\u001b[0m, in \u001b[0;36mconcatenate\u001b[1;34m(*args, **kwargs)\u001b[0m\n",
      "\u001b[1;31mMemoryError\u001b[0m: Unable to allocate 28.7 GiB for an array with shape (17281, 223200) and data type float64"
     ]
    }
   ],
   "source": [
    "# Loop through each address column and create a separate pivoted DataFrame for each address\n",
    "pivoted = pd.DataFrame()\n",
    "for address in address_columns:\n",
    "    row=[]\n",
    "    row = df[['timestamp', address]]\n",
    "    row = row.pivot(columns='timestamp', values=address)\n",
    "    row['description'] = address\n",
    "    pivoted = pd.concat([pivoted, row], axis=0, sort=False)\n",
    "pivoted.to_csv(os.path.join('out/', 'noise-by-10min.csv'), index=False)"
   ]
  },
  {
   "cell_type": "code",
   "execution_count": 4,
   "metadata": {},
   "outputs": [
    {
     "name": "stdout",
     "output_type": "stream",
     "text": [
      "      Unnamed: 0 timestamp                       location  noise_level event  \\\n",
      "0              0  00 03/01  MP 01: Naamsestraat 35  Maxim         70.0   NaN   \n",
      "1             60  01 03/01  MP 01: Naamsestraat 35  Maxim         75.7   NaN   \n",
      "2            120  02 03/01  MP 01: Naamsestraat 35  Maxim         68.1   NaN   \n",
      "3            180  03 03/01  MP 01: Naamsestraat 35  Maxim         72.3   NaN   \n",
      "4            240  17 03/01  MP 01: Naamsestraat 35  Maxim         72.2   NaN   \n",
      "...          ...       ...                            ...          ...   ...   \n",
      "6903      427539  19 12/12         MP 07: Naamsestraat 81         68.4   NaN   \n",
      "6904      427599  20 12/12         MP 07: Naamsestraat 81         62.7   NaN   \n",
      "6905      427659  21 12/12         MP 07: Naamsestraat 81         72.1   NaN   \n",
      "6906      427719  22 12/12         MP 07: Naamsestraat 81         62.1   NaN   \n",
      "6907      427779  23 12/12         MP 07: Naamsestraat 81         72.2   NaN   \n",
      "\n",
      "      count  hour day_of_week  humidity   temp  ...      lat     lon   alt  \\\n",
      "0       0.0     0      Monday      81.0  8.000  ...  50.8775  4.7005  26.5   \n",
      "1       0.0     1      Monday      81.5  7.890  ...  50.8775  4.7005  26.5   \n",
      "2       0.0     2      Monday      81.5  7.720  ...  50.8775  4.7005  26.5   \n",
      "3       0.0     3      Monday      79.5  7.505  ...  50.8775  4.7005  26.5   \n",
      "4       0.0    17      Monday      88.0  8.095  ...  50.8775  4.7005  26.5   \n",
      "...     ...   ...         ...       ...    ...  ...      ...     ...   ...   \n",
      "6903    0.0    19      Monday      90.0 -2.500  ...  50.8750  4.6990  38.0   \n",
      "6904    0.0    20      Monday      91.0 -2.750  ...  50.8750  4.6990  38.0   \n",
      "6905    0.0    21      Monday      90.0 -2.990  ...  50.8750  4.6990  38.0   \n",
      "6906    0.0    22      Monday      91.0 -3.920  ...  50.8750  4.6990  38.0   \n",
      "6907    0.0    23      Monday      92.0 -4.560  ...  50.8750  4.6990  38.0   \n",
      "\n",
      "      climate_zone  green_cover  building_height  sky_view_factor  \\\n",
      "0              2.0          0.0        18.353701         0.649287   \n",
      "1              2.0          0.0        18.353701         0.649287   \n",
      "2              2.0          0.0        18.353701         0.649287   \n",
      "3              2.0          0.0        18.353701         0.649287   \n",
      "4              2.0          0.0        18.353701         0.649287   \n",
      "...            ...          ...              ...              ...   \n",
      "6903           2.0          0.0        18.135126         0.635925   \n",
      "6904           2.0          0.0        18.135126         0.635925   \n",
      "6905           2.0          0.0        18.135126         0.635925   \n",
      "6906           2.0          0.0        18.135126         0.635925   \n",
      "6907           2.0          0.0        18.135126         0.635925   \n",
      "\n",
      "      installation_height  month  day_of_month  \n",
      "0                     3.0      1             3  \n",
      "1                     3.0      1             3  \n",
      "2                     3.0      1             3  \n",
      "3                     3.0      1             3  \n",
      "4                     3.0      1             3  \n",
      "...                   ...    ...           ...  \n",
      "6903                  3.0     12            12  \n",
      "6904                  3.0     12            12  \n",
      "6905                  3.0     12            12  \n",
      "6906                  3.0     12            12  \n",
      "6907                  3.0     12            12  \n",
      "\n",
      "[6908 rows x 30 columns]\n"
     ]
    }
   ],
   "source": [
    "import pandas as pd\n",
    "\n",
    "file_path = '../WentingJiang/data/processed/df_model_hourly.csv'\n",
    "df = pd.read_csv(file_path)\n",
    "\n",
    "# Assuming your DataFrame is named 'df'\n",
    "df['timestamp'] = pd.to_datetime(df[['hour', 'day_of_month', 'month']].astype(str).apply(' '.join, axis=1), format='%H %d %m').dt.strftime('%H %d/%m')\n",
    "\n",
    "# Display the updated DataFrame\n",
    "print(df)\n"
   ]
  },
  {
   "cell_type": "code",
   "execution_count": 13,
   "metadata": {},
   "outputs": [],
   "source": [
    "pivoted = df.pivot(index='location', columns='timestamp', values='noise_level')\n",
    "pivoted['description'] = mp_list2\n",
    "pivoted.to_csv(os.path.join('out/', 'noise-by-hour.csv'), index=False)"
   ]
  },
  {
   "cell_type": "code",
   "execution_count": 6,
   "metadata": {},
   "outputs": [
    {
     "name": "stdout",
     "output_type": "stream",
     "text": [
      "timestamp                         00 03/01  00 03/02  00 03/03  00 03/04  \\\n",
      "location                                                                   \n",
      "MP 01: Naamsestraat 35  Maxim         70.0      70.9      70.1      70.9   \n",
      "MP 02: Naamsestraat 57 Xior           50.8      64.3      63.9      60.0   \n",
      "MP 03: Naamsestraat 62 Taste          52.0      61.8      66.3      71.4   \n",
      "MP 05: Calvariekapel KU Leuven        66.7      84.0      67.8      68.9   \n",
      "MP 06: Parkstraat 2 La Filosovia      65.5      68.1      67.7      64.0   \n",
      "MP 07: Naamsestraat 81                67.6      69.3      65.8      70.1   \n",
      "\n",
      "timestamp                         00 03/05  00 03/06  00 03/07  00 03/08  \\\n",
      "location                                                                   \n",
      "MP 01: Naamsestraat 35  Maxim         67.1      56.1      64.4      70.9   \n",
      "MP 02: Naamsestraat 57 Xior           66.7      56.6      63.0      68.0   \n",
      "MP 03: Naamsestraat 62 Taste          64.4      67.6      53.9      62.7   \n",
      "MP 05: Calvariekapel KU Leuven        73.3      69.0      56.1      74.0   \n",
      "MP 06: Parkstraat 2 La Filosovia      67.8      64.2      56.5      71.9   \n",
      "MP 07: Naamsestraat 81                62.2      65.2      43.3      76.0   \n",
      "\n",
      "timestamp                         00 03/09  00 03/10  ...  23 12/03  23 12/04  \\\n",
      "location                                              ...                       \n",
      "MP 01: Naamsestraat 35  Maxim         78.2      78.1  ...      72.1      71.6   \n",
      "MP 02: Naamsestraat 57 Xior           66.7      68.3  ...      68.9      69.8   \n",
      "MP 03: Naamsestraat 62 Taste          70.2      72.7  ...      70.4      67.3   \n",
      "MP 05: Calvariekapel KU Leuven        69.5      73.2  ...      66.4      69.6   \n",
      "MP 06: Parkstraat 2 La Filosovia      66.7      72.9  ...      65.2      69.3   \n",
      "MP 07: Naamsestraat 81                67.5      75.5  ...      65.7      64.1   \n",
      "\n",
      "timestamp                         23 12/05  23 12/06  23 12/07  23 12/08  \\\n",
      "location                                                                   \n",
      "MP 01: Naamsestraat 35  Maxim         72.9      60.1      74.0      65.4   \n",
      "MP 02: Naamsestraat 57 Xior           66.1      61.6      65.4      64.9   \n",
      "MP 03: Naamsestraat 62 Taste          61.2      62.9      67.1      67.6   \n",
      "MP 05: Calvariekapel KU Leuven        66.4      62.1      66.8      57.5   \n",
      "MP 06: Parkstraat 2 La Filosovia      75.1      59.0      61.5      68.6   \n",
      "MP 07: Naamsestraat 81                67.4      47.7      52.1      60.1   \n",
      "\n",
      "timestamp                         23 12/09  23 12/10  23 12/11  23 12/12  \n",
      "location                                                                  \n",
      "MP 01: Naamsestraat 35  Maxim         72.0      69.2      71.4      64.8  \n",
      "MP 02: Naamsestraat 57 Xior           77.6      69.3      70.4      66.8  \n",
      "MP 03: Naamsestraat 62 Taste          76.9      67.0      63.6      64.5  \n",
      "MP 05: Calvariekapel KU Leuven        79.7      83.5      65.0      68.8  \n",
      "MP 06: Parkstraat 2 La Filosovia      75.9      66.3      57.0      71.3  \n",
      "MP 07: Naamsestraat 81                77.1      64.6      59.0      72.2  \n",
      "\n",
      "[6 rows x 1188 columns]\n"
     ]
    }
   ],
   "source": [
    "print(pivoted)"
   ]
  }
 ],
 "metadata": {
  "kernelspec": {
   "display_name": "MDA",
   "language": "python",
   "name": "python3"
  },
  "language_info": {
   "codemirror_mode": {
    "name": "ipython",
    "version": 3
   },
   "file_extension": ".py",
   "mimetype": "text/x-python",
   "name": "python",
   "nbconvert_exporter": "python",
   "pygments_lexer": "ipython3",
   "version": "3.11.3"
  },
  "orig_nbformat": 4
 },
 "nbformat": 4,
 "nbformat_minor": 2
}
