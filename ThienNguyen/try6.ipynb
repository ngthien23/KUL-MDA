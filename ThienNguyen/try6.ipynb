{
 "cells": [
  {
   "cell_type": "code",
   "execution_count": 13,
   "metadata": {},
   "outputs": [],
   "source": [
    "import os\n",
    "import polars as pl\n",
    "import pandas as pd\n",
    "import matplotlib.pyplot as plt\n",
    "import numpy as np\n",
    "import seaborn as sns\n",
    "#import pyarrow as pa\n",
    "#import datetime\n",
    "\n",
    "# Define paths\n",
    "wea_files = ['LC_2022Q1.csv', 'LC_2022Q2.csv', 'LC_2022Q3.csv', 'LC_2022Q4.csv']\n",
    "id_list = ['439', '440', '441', '910', '442', '443', '444', '324'] # Same order as 1-9 in project.pdf\n",
    "\n",
    "# Load with polars and remove noise stations 7 8 9\n",
    "noise_loc = pl.read_csv('../noise_meta.csv')\\\n",
    "            .slice(0,6)\n",
    "wea_loc = pl.read_csv('../01_Metadata_v2.csv')\n",
    "wea_prep = pd.read_csv('out/wea_prep.csv')"
   ]
  },
  {
   "cell_type": "code",
   "execution_count": 25,
   "metadata": {},
   "outputs": [],
   "source": [
    "# Preprocess noise level with pandas\n",
    "# Using output_path fixes [Errno 13]\n",
    "def noise_preprocess_csv(folder_path, output_path, names):\n",
    "    for name in names:\n",
    "        noise = pd.DataFrame(columns=['description', 'date', 'lamax'])  # Step 1\n",
    "        \n",
    "        for file_name in os.listdir(folder_path):\n",
    "            if file_name.endswith('.csv') and name in file_name:\n",
    "                file_path = os.path.join(folder_path, file_name)\n",
    "                add = pd.read_csv(file_path, delimiter=';')\n",
    "\n",
    "                add['date'] = add['result_timestamp'].str[0:10]\n",
    "                add = add.groupby(['description', 'date'])['lamax'].mean().reset_index()\n",
    "\n",
    "                # Get the 'AD' value from the DataFrame's 'description' column\n",
    "                address = add['description'].values[0]\n",
    "                \n",
    "                # Find the corresponding metadata row\n",
    "                noise_loc_row = noise_loc[noise_loc['AD'] == address]\n",
    "                \n",
    "                add['LAT'] = noise_loc_row['LAT'][0]\n",
    "                add['LON'] = noise_loc_row['LON'][0]\n",
    "\n",
    "                # Step 3\n",
    "                noise = pd.concat([noise, add], sort=False)\n",
    "\n",
    "        # Step 4\n",
    "        noise.to_csv(os.path.join(output_path, name + '-3.csv'), index=False)\n",
    "\n",
    "    return 0"
   ]
  },
  {
   "cell_type": "code",
   "execution_count": 26,
   "metadata": {},
   "outputs": [
    {
     "ename": "ValueError",
     "evalue": "Cannot __getitem__ on DataFrame with item: 'shape: (6,)\nSeries: 'AD' [bool]\n[\n\ttrue\n\tfalse\n\tfalse\n\tfalse\n\tfalse\n\tfalse\n]' of type: '<class 'polars.series.series.Series'>'.",
     "output_type": "error",
     "traceback": [
      "\u001b[1;31m---------------------------------------------------------------------------\u001b[0m",
      "\u001b[1;31mValueError\u001b[0m                                Traceback (most recent call last)",
      "Cell \u001b[1;32mIn[26], line 2\u001b[0m\n\u001b[0;32m      1\u001b[0m \u001b[39m# Takes about 10 minutes. Requires about 4Gb of RAM.\u001b[39;00m\n\u001b[1;32m----> 2\u001b[0m noise_preprocess_csv(\u001b[39m'\u001b[39;49m\u001b[39m../noise level/\u001b[39;49m\u001b[39m'\u001b[39;49m, \u001b[39m'\u001b[39;49m\u001b[39mout/\u001b[39;49m\u001b[39m'\u001b[39;49m, id_list)\n",
      "Cell \u001b[1;32mIn[25], line 19\u001b[0m, in \u001b[0;36mnoise_preprocess_csv\u001b[1;34m(folder_path, output_path, names)\u001b[0m\n\u001b[0;32m     16\u001b[0m address \u001b[39m=\u001b[39m add[\u001b[39m'\u001b[39m\u001b[39mdescription\u001b[39m\u001b[39m'\u001b[39m]\u001b[39m.\u001b[39mvalues[\u001b[39m0\u001b[39m]\n\u001b[0;32m     18\u001b[0m \u001b[39m# Find the corresponding metadata row\u001b[39;00m\n\u001b[1;32m---> 19\u001b[0m noise_loc_row \u001b[39m=\u001b[39m noise_loc[noise_loc[\u001b[39m'\u001b[39;49m\u001b[39mAD\u001b[39;49m\u001b[39m'\u001b[39;49m] \u001b[39m==\u001b[39;49m address]\n\u001b[0;32m     21\u001b[0m add[\u001b[39m'\u001b[39m\u001b[39mLAT\u001b[39m\u001b[39m'\u001b[39m] \u001b[39m=\u001b[39m noise_loc_row[\u001b[39m'\u001b[39m\u001b[39mLAT\u001b[39m\u001b[39m'\u001b[39m][\u001b[39m0\u001b[39m]\n\u001b[0;32m     22\u001b[0m add[\u001b[39m'\u001b[39m\u001b[39mLON\u001b[39m\u001b[39m'\u001b[39m] \u001b[39m=\u001b[39m noise_loc_row[\u001b[39m'\u001b[39m\u001b[39mLON\u001b[39m\u001b[39m'\u001b[39m][\u001b[39m0\u001b[39m]\n",
      "File \u001b[1;32mc:\\Users\\camd1\\miniconda3\\envs\\MDA-test\\Lib\\site-packages\\polars\\dataframe\\frame.py:1669\u001b[0m, in \u001b[0;36mDataFrame.__getitem__\u001b[1;34m(self, item)\u001b[0m\n\u001b[0;32m   1664\u001b[0m         \u001b[39mreturn\u001b[39;00m \u001b[39mself\u001b[39m\u001b[39m.\u001b[39m_from_pydf(\n\u001b[0;32m   1665\u001b[0m             \u001b[39mself\u001b[39m\u001b[39m.\u001b[39m_df\u001b[39m.\u001b[39mtake_with_series(\u001b[39mself\u001b[39m\u001b[39m.\u001b[39m_pos_idxs(item, dim\u001b[39m=\u001b[39m\u001b[39m0\u001b[39m)\u001b[39m.\u001b[39m_s)\n\u001b[0;32m   1666\u001b[0m         )\n\u001b[0;32m   1668\u001b[0m \u001b[39m# if no data has been returned, the operation is not supported\u001b[39;00m\n\u001b[1;32m-> 1669\u001b[0m \u001b[39mraise\u001b[39;00m \u001b[39mValueError\u001b[39;00m(\n\u001b[0;32m   1670\u001b[0m     \u001b[39mf\u001b[39m\u001b[39m\"\u001b[39m\u001b[39mCannot __getitem__ on DataFrame with item: \u001b[39m\u001b[39m'\u001b[39m\u001b[39m{\u001b[39;00mitem\u001b[39m}\u001b[39;00m\u001b[39m'\u001b[39m\u001b[39m\"\u001b[39m\n\u001b[0;32m   1671\u001b[0m     \u001b[39mf\u001b[39m\u001b[39m\"\u001b[39m\u001b[39m of type: \u001b[39m\u001b[39m'\u001b[39m\u001b[39m{\u001b[39;00m\u001b[39mtype\u001b[39m(item)\u001b[39m}\u001b[39;00m\u001b[39m'\u001b[39m\u001b[39m.\u001b[39m\u001b[39m\"\u001b[39m\n\u001b[0;32m   1672\u001b[0m )\n",
      "\u001b[1;31mValueError\u001b[0m: Cannot __getitem__ on DataFrame with item: 'shape: (6,)\nSeries: 'AD' [bool]\n[\n\ttrue\n\tfalse\n\tfalse\n\tfalse\n\tfalse\n\tfalse\n]' of type: '<class 'polars.series.series.Series'>'."
     ]
    }
   ],
   "source": [
    "# Takes about 10 minutes. Requires about 4Gb of RAM.\n",
    "noise_preprocess_csv('../noise level/', 'out/', id_list)"
   ]
  },
  {
   "cell_type": "code",
   "execution_count": 10,
   "metadata": {},
   "outputs": [],
   "source": [
    "import pandas as pd\n",
    "import glob\n",
    "\n",
    "# Find CSV files that match the partial names\n",
    "matching_files = []\n",
    "for partial_name in id_list:\n",
    "    matching_files.extend(glob.glob('*{}-3.csv'.format(partial_name)))\n",
    "\n",
    "# Loop through each matching CSV file\n",
    "for file_name in matching_files:\n",
    "    # Read the CSV file\n",
    "    df = pd.read_csv(file_name)\n",
    "    \n",
    "    # Loop through each row in the DataFrame\n",
    "    for index, row in df.iterrows():\n",
    "        # Get the description from 'description' column\n",
    "        description = row['description']\n",
    "        \n",
    "        # Find the matching row in the original DataFrame\n",
    "        match_row = df.loc[df['AD'] == description]\n",
    "        \n",
    "        # Get the latitude and longitude values\n",
    "        lat = match_row['LAT'].values[0]\n",
    "        lon = match_row['LON'].values[0]\n",
    "        \n",
    "        # Update the 'LAT' and 'LON' columns\n",
    "        df.at[index, 'LAT'] = lat\n",
    "        df.at[index, 'LON'] = lon\n",
    "    \n",
    "    # Save the updated DataFrame to a new CSV file\n",
    "    updated_file_name = file_name.replace('-3.csv', '-updated.csv')\n",
    "    df.to_csv(updated_file_name, index=False)\n"
   ]
  }
 ],
 "metadata": {
  "kernelspec": {
   "display_name": "MDA",
   "language": "python",
   "name": "python3"
  },
  "language_info": {
   "codemirror_mode": {
    "name": "ipython",
    "version": 3
   },
   "file_extension": ".py",
   "mimetype": "text/x-python",
   "name": "python",
   "nbconvert_exporter": "python",
   "pygments_lexer": "ipython3",
   "version": "3.11.3"
  },
  "orig_nbformat": 4
 },
 "nbformat": 4,
 "nbformat_minor": 2
}
