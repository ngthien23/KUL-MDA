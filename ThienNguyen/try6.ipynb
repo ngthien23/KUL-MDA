{
 "cells": [
  {
   "cell_type": "code",
   "execution_count": 43,
   "metadata": {},
   "outputs": [],
   "source": [
    "import os\n",
    "import polars as pl\n",
    "import pandas as pd\n",
    "import matplotlib.pyplot as plt\n",
    "import numpy as np\n",
    "import seaborn as sns\n",
    "#import pyarrow as pa\n",
    "#import datetime\n",
    "\n",
    "# Define paths\n",
    "wea_files = ['LC_2022Q1.csv', 'LC_2022Q2.csv', 'LC_2022Q3.csv', 'LC_2022Q4.csv']\n",
    "mp_list = ['MP 01', 'MP 02', 'MP 03', 'MP 04', 'MP 05', 'MP 06', 'MP 07', 'MP 08']\n",
    "id_list = ['439', '440', '441', '910', '442', '443', '444', '324'] # Same order as 1-9 in project.pdf\n",
    "#id_list = ['439', '440']\n",
    "\n",
    "# Load with polars and remove noise stations 7 8 9\n",
    "noise_loc = pl.read_csv('../noise_meta.csv')\\\n",
    "            .slice(0,6)\n",
    "wea_loc = pl.read_csv('../01_Metadata_v2.csv')\n",
    "wea_prep = pd.read_csv('out/wea_prep.csv')"
   ]
  },
  {
   "cell_type": "code",
   "execution_count": 49,
   "metadata": {},
   "outputs": [],
   "source": [
    "# Preprocess noise level with pandas\n",
    "# Using output_path fixes [Errno 13]\n",
    "def noise_preprocess_csv(folder_path, output_path, names):\n",
    "    noise = pd.DataFrame()\n",
    "    for name in names:\n",
    "        noise_row = pd.DataFrame()\n",
    "        for file_name in os.listdir(folder_path):\n",
    "            if file_name.endswith('.csv') and name in file_name:\n",
    "                file_path = os.path.join(folder_path, file_name)\n",
    "                add = pd.read_csv(file_path, delimiter=';')\n",
    "\n",
    "                add['date'] = add['result_timestamp'].str[0:10]\n",
    "                add = add.groupby(['description', 'date'])['lamax'].mean().reset_index()\n",
    "\n",
    "                add = add.pivot(index='description', columns='date', values='lamax')\n",
    "\n",
    "                noise_row = pd.concat([noise_row, add], axis=1, sort=True)\n",
    "        noise = pd.concat([noise, noise_row], axis=0, sort=False)\n",
    "        noise['description'] = mp_list\n",
    "    noise.to_csv(os.path.join(output_path, 'noise-by-day2.csv'), index=False)\n",
    "\n",
    "    return 0"
   ]
  },
  {
   "cell_type": "code",
   "execution_count": null,
   "metadata": {},
   "outputs": [],
   "source": [
    "noise_preprocess_csv('../noise level/', 'out/', id_list)"
   ]
  }
 ],
 "metadata": {
  "kernelspec": {
   "display_name": "MDA",
   "language": "python",
   "name": "python3"
  },
  "language_info": {
   "codemirror_mode": {
    "name": "ipython",
    "version": 3
   },
   "file_extension": ".py",
   "mimetype": "text/x-python",
   "name": "python",
   "nbconvert_exporter": "python",
   "pygments_lexer": "ipython3",
   "version": "3.11.3"
  },
  "orig_nbformat": 4
 },
 "nbformat": 4,
 "nbformat_minor": 2
}
