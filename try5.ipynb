{
 "cells": [
  {
   "cell_type": "code",
   "execution_count": 6,
   "metadata": {},
   "outputs": [],
   "source": [
    "import folium\n",
    "import pandas as pd\n",
    "import polars as pl\n",
    "\n",
    "# Define paths\n",
    "wea_files = ['LC_2022Q1.csv', 'LC_2022Q2.csv', 'LC_2022Q3.csv', 'LC_2022Q4.csv']\n",
    "id_list = ['439', '440', '441', '910', '442', '443', '444', '445', '324'] # Same order as 1-9 in project.pdf\n",
    "\n",
    "# Load with polars and remove noise stations 7 8 9\n",
    "noise_loc = pl.read_csv('noise_meta.csv')\\\n",
    "            .slice(0,6)\n",
    "wea_loc = pl.read_csv('01_Metadata_v2.csv')\n",
    "wea_prep = pd.read_csv('out/wea_prep.csv')"
   ]
  },
  {
   "cell_type": "code",
   "execution_count": null,
   "metadata": {},
   "outputs": [],
   "source": []
  },
  {
   "cell_type": "code",
   "execution_count": 7,
   "metadata": {},
   "outputs": [],
   "source": [
    "df = pd.read_csv('01_Metadata_v2.csv')\n",
    "\n",
    "# Create a folium map centered around the first location\n",
    "map_center = [df['LAT'].iloc[0], df['LON'].iloc[0]]\n",
    "map_osm = folium.Map(location=map_center, zoom_start=12)\n",
    "\n",
    "# Add markers for each location\n",
    "for index, row in df.iterrows():\n",
    "    folium.Marker(location=[row['LAT'], row['LON']]).add_to(map_osm)\n",
    "\n",
    "# Save the map as an HTML file\n",
    "map_osm.save('wea_map.html')"
   ]
  }
 ],
 "metadata": {
  "kernelspec": {
   "display_name": "MDA-test",
   "language": "python",
   "name": "python3"
  },
  "language_info": {
   "codemirror_mode": {
    "name": "ipython",
    "version": 3
   },
   "file_extension": ".py",
   "mimetype": "text/x-python",
   "name": "python",
   "nbconvert_exporter": "python",
   "pygments_lexer": "ipython3",
   "version": "3.11.3"
  },
  "orig_nbformat": 4
 },
 "nbformat": 4,
 "nbformat_minor": 2
}
