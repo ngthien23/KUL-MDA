{
 "cells": [
  {
   "cell_type": "code",
   "execution_count": 4,
   "metadata": {},
   "outputs": [],
   "source": [
    "import os\n",
    "import polars as pl\n",
    "import pandas as pd\n",
    "import matplotlib.pyplot as plt\n",
    "import numpy as np\n",
    "import seaborn as sns\n",
    "#import pyarrow as pa\n",
    "#import datetime\n",
    "\n",
    "# Define paths\n",
    "wea_files = ['LC_2022Q1.csv', 'LC_2022Q2.csv', 'LC_2022Q3.csv', 'LC_2022Q4.csv']\n",
    "id_list = ['439', '440', '441', '910', '442', '443', '444', '445', '324'] # Same order as 1-9 in project.pdf\n",
    "\n",
    "# Load with polars and remove noise stations 7 8 9\n",
    "noise_loc = pl.read_csv('../noise_meta.csv')\\\n",
    "            .slice(0,6)\n",
    "wea_loc = pl.read_csv('../01_Metadata_v2.csv')\n",
    "wea_prep = pd.read_csv('out/wea_prep.csv')"
   ]
  },
  {
   "cell_type": "code",
   "execution_count": 36,
   "metadata": {},
   "outputs": [],
   "source": [
    "def loc_filter(noise, wea):\n",
    "    # Find the range of longitude and latitude values in noise\n",
    "    lon_min, lon_max = noise['LON'].min(), noise['LON'].max()\n",
    "    lat_min, lat_max = noise['LAT'].min(), noise['LAT'].max()\n",
    "\n",
    "    # Filter wea\n",
    "    wea_filtered = wea.filter((wea['LON'] > lon_min) & (wea['LON'] < lon_max) & (wea['LAT'] > lat_min) & (wea['LAT'] < lat_max))\n",
    "    \n",
    "    return wea_filtered\n",
    "\n",
    "def wea_preprocess(folder_path, file_names, filter):\n",
    "    # Initialize dataframe with 1 line makes polars works\n",
    "    #wea_prep = pl.DataFrame()\n",
    "    wea_prep = pl.DataFrame({\n",
    "                'ID':['LC-null'],\n",
    "                'month':[0],\n",
    "                'day':[0],\n",
    "                'hour':[0],\n",
    "                'rain':[0],\n",
    "                'temp':[0]\n",
    "                }, schema=[    \n",
    "                    (\"ID\", pl.Utf8),\n",
    "                    (\"month\", pl.Int32),\n",
    "                    (\"day\", pl.Int32),\n",
    "                    (\"hour\", pl.Int32),\n",
    "                    (\"rain\", pl.Float64),\n",
    "                    (\"temp\", pl.Float64)])\n",
    "    # Cast rain to utf8, filter NA, cast back to f64 (no idea what NA as i64 is for polars)\n",
    "    for file_name in file_names:\n",
    "        wea = pl.read_csv(folder_path + file_name, \n",
    "                    columns=[1,12,13,14,6,20], \n",
    "                    new_columns=['ID','month','day','hour','rain','temp'],\n",
    "                    infer_schema_length=1500000)\\\n",
    "                .filter(pl.col('ID').is_in(filter['ID'].unique().to_list()))\\\n",
    "                .filter(pl.col('rain').cast(pl.Utf8) != 'NA')\\\n",
    "                .filter(pl.col('temp') != 'NA')\\\n",
    "                .with_columns(\n",
    "                    pl.col('month').cast(pl.Int32,strict=False),\n",
    "                    pl.col('day').cast(pl.Int32,strict=False),\n",
    "                    pl.col('hour').cast(pl.Int32,strict=False),\n",
    "                    pl.col('rain').cast(pl.Float64,strict=False),\n",
    "                    pl.col('temp').cast(pl.Float64, strict=False))\n",
    "    wea_prep.extend(wea)\n",
    "    wea_prep = wea_prep.slice(1, None).to_pandas()       \n",
    "    \n",
    "    # create a new column 'weekend' based on the 'month' and 'day' columns\n",
    "    wea_prep['weekend'] = pd.to_datetime('2022-' + wea_prep['month'].astype(str) + '-' + wea_prep['day'].astype(str))\\\n",
    "                            .dt.day_name()\\\n",
    "                            .apply(lambda x: 1 if x in ['Saturday', 'Sunday'] else 0)\n",
    "    wea_prep = pl.from_pandas(wea_prep).with_columns(pl.col('weekend').cast(pl.Int32,strict=False))\n",
    "    # Aggregate on: mean temp, max rain, per hour\n",
    "    wea_prep = wea_prep.groupby(['month', 'day', 'hour'])\\\n",
    "                .agg(\n",
    "                    temp = pl.mean('temp'),\n",
    "                    rain = pl.max('rain')\n",
    "                )\n",
    "    return wea_prep\n"
   ]
  },
  {
   "cell_type": "code",
   "execution_count": null,
   "metadata": {},
   "outputs": [],
   "source": [
    "wea1 = pl.read_csv('../weather/' + 'LC_2022Q1.csv', \n",
    "                    columns=[1,12,13,14,6,20], \n",
    "                    new_columns=['ID','month','day','hour','rain','temp'],\n",
    "                    infer_schema_length=1500000)\n",
    "print(wea1)"
   ]
  },
  {
   "cell_type": "code",
   "execution_count": 37,
   "metadata": {},
   "outputs": [
    {
     "name": "stderr",
     "output_type": "stream",
     "text": [
      "C:\\Users\\camd1\\AppData\\Local\\Temp\\ipykernel_15776\\2715302889.py:47: UserWarning: Could not infer format, so each element will be parsed individually, falling back to `dateutil`. To ensure parsing is consistent and as-expected, please specify a format.\n",
      "  wea_prep['weekend'] = pd.to_datetime('2022-' + wea_prep['month'].astype(str) + '-' + wea_prep['day'].astype(str))\\\n"
     ]
    },
    {
     "ename": "DateParseError",
     "evalue": "Unknown datetime string format, unable to parse: 2022-nan-10, at position 0",
     "output_type": "error",
     "traceback": [
      "\u001b[1;31m---------------------------------------------------------------------------\u001b[0m",
      "\u001b[1;31mDateParseError\u001b[0m                            Traceback (most recent call last)",
      "Cell \u001b[1;32mIn[37], line 1\u001b[0m\n\u001b[1;32m----> 1\u001b[0m wea_prep \u001b[39m=\u001b[39m wea_preprocess(\u001b[39m'\u001b[39;49m\u001b[39m../weather/\u001b[39;49m\u001b[39m'\u001b[39;49m, wea_files, loc_filter(noise_loc, wea_loc))\n\u001b[0;32m      2\u001b[0m \u001b[39m#wea_prep.to_csv('out/wea_prep.csv', index=False)\u001b[39;00m\n\u001b[0;32m      3\u001b[0m \u001b[39mprint\u001b[39m(wea_prep)\n",
      "Cell \u001b[1;32mIn[36], line 47\u001b[0m, in \u001b[0;36mwea_preprocess\u001b[1;34m(folder_path, file_names, filter)\u001b[0m\n\u001b[0;32m     44\u001b[0m wea_prep \u001b[39m=\u001b[39m wea_prep\u001b[39m.\u001b[39mslice(\u001b[39m1\u001b[39m, \u001b[39mNone\u001b[39;00m)\u001b[39m.\u001b[39mto_pandas()       \n\u001b[0;32m     46\u001b[0m \u001b[39m# create a new column 'weekend' based on the 'month' and 'day' columns\u001b[39;00m\n\u001b[1;32m---> 47\u001b[0m wea_prep[\u001b[39m'\u001b[39m\u001b[39mweekend\u001b[39m\u001b[39m'\u001b[39m] \u001b[39m=\u001b[39m pd\u001b[39m.\u001b[39;49mto_datetime(\u001b[39m'\u001b[39;49m\u001b[39m2022-\u001b[39;49m\u001b[39m'\u001b[39;49m \u001b[39m+\u001b[39;49m wea_prep[\u001b[39m'\u001b[39;49m\u001b[39mmonth\u001b[39;49m\u001b[39m'\u001b[39;49m]\u001b[39m.\u001b[39;49mastype(\u001b[39mstr\u001b[39;49m) \u001b[39m+\u001b[39;49m \u001b[39m'\u001b[39;49m\u001b[39m-\u001b[39;49m\u001b[39m'\u001b[39;49m \u001b[39m+\u001b[39;49m wea_prep[\u001b[39m'\u001b[39;49m\u001b[39mday\u001b[39;49m\u001b[39m'\u001b[39;49m]\u001b[39m.\u001b[39;49mastype(\u001b[39mstr\u001b[39;49m))\\\n\u001b[0;32m     48\u001b[0m                         \u001b[39m.\u001b[39mdt\u001b[39m.\u001b[39mday_name()\\\n\u001b[0;32m     49\u001b[0m                         \u001b[39m.\u001b[39mapply(\u001b[39mlambda\u001b[39;00m x: \u001b[39m1\u001b[39m \u001b[39mif\u001b[39;00m x \u001b[39min\u001b[39;00m [\u001b[39m'\u001b[39m\u001b[39mSaturday\u001b[39m\u001b[39m'\u001b[39m, \u001b[39m'\u001b[39m\u001b[39mSunday\u001b[39m\u001b[39m'\u001b[39m] \u001b[39melse\u001b[39;00m \u001b[39m0\u001b[39m)\n\u001b[0;32m     50\u001b[0m wea_prep \u001b[39m=\u001b[39m pl\u001b[39m.\u001b[39mfrom_pandas(wea_prep)\u001b[39m.\u001b[39mwith_columns(pl\u001b[39m.\u001b[39mcol(\u001b[39m'\u001b[39m\u001b[39mweekend\u001b[39m\u001b[39m'\u001b[39m)\u001b[39m.\u001b[39mcast(pl\u001b[39m.\u001b[39mInt32,strict\u001b[39m=\u001b[39m\u001b[39mFalse\u001b[39;00m))\n\u001b[0;32m     51\u001b[0m \u001b[39m# Aggregate on: mean temp, max rain, per hour\u001b[39;00m\n",
      "File \u001b[1;32mc:\\Users\\camd1\\miniconda3\\envs\\MDA-test\\Lib\\site-packages\\pandas\\core\\tools\\datetimes.py:1046\u001b[0m, in \u001b[0;36mto_datetime\u001b[1;34m(arg, errors, dayfirst, yearfirst, utc, format, exact, unit, infer_datetime_format, origin, cache)\u001b[0m\n\u001b[0;32m   1044\u001b[0m             result \u001b[39m=\u001b[39m arg\u001b[39m.\u001b[39mtz_localize(\u001b[39m\"\u001b[39m\u001b[39mutc\u001b[39m\u001b[39m\"\u001b[39m)\n\u001b[0;32m   1045\u001b[0m \u001b[39melif\u001b[39;00m \u001b[39misinstance\u001b[39m(arg, ABCSeries):\n\u001b[1;32m-> 1046\u001b[0m     cache_array \u001b[39m=\u001b[39m _maybe_cache(arg, \u001b[39mformat\u001b[39;49m, cache, convert_listlike)\n\u001b[0;32m   1047\u001b[0m     \u001b[39mif\u001b[39;00m \u001b[39mnot\u001b[39;00m cache_array\u001b[39m.\u001b[39mempty:\n\u001b[0;32m   1048\u001b[0m         result \u001b[39m=\u001b[39m arg\u001b[39m.\u001b[39mmap(cache_array)\n",
      "File \u001b[1;32mc:\\Users\\camd1\\miniconda3\\envs\\MDA-test\\Lib\\site-packages\\pandas\\core\\tools\\datetimes.py:250\u001b[0m, in \u001b[0;36m_maybe_cache\u001b[1;34m(arg, format, cache, convert_listlike)\u001b[0m\n\u001b[0;32m    248\u001b[0m unique_dates \u001b[39m=\u001b[39m unique(arg)\n\u001b[0;32m    249\u001b[0m \u001b[39mif\u001b[39;00m \u001b[39mlen\u001b[39m(unique_dates) \u001b[39m<\u001b[39m \u001b[39mlen\u001b[39m(arg):\n\u001b[1;32m--> 250\u001b[0m     cache_dates \u001b[39m=\u001b[39m convert_listlike(unique_dates, \u001b[39mformat\u001b[39;49m)\n\u001b[0;32m    251\u001b[0m     \u001b[39m# GH#45319\u001b[39;00m\n\u001b[0;32m    252\u001b[0m     \u001b[39mtry\u001b[39;00m:\n",
      "File \u001b[1;32mc:\\Users\\camd1\\miniconda3\\envs\\MDA-test\\Lib\\site-packages\\pandas\\core\\tools\\datetimes.py:455\u001b[0m, in \u001b[0;36m_convert_listlike_datetimes\u001b[1;34m(arg, format, name, utc, unit, errors, dayfirst, yearfirst, exact)\u001b[0m\n\u001b[0;32m    452\u001b[0m \u001b[39mif\u001b[39;00m \u001b[39mformat\u001b[39m \u001b[39mis\u001b[39;00m \u001b[39mnot\u001b[39;00m \u001b[39mNone\u001b[39;00m \u001b[39mand\u001b[39;00m \u001b[39mformat\u001b[39m \u001b[39m!=\u001b[39m \u001b[39m\"\u001b[39m\u001b[39mmixed\u001b[39m\u001b[39m\"\u001b[39m:\n\u001b[0;32m    453\u001b[0m     \u001b[39mreturn\u001b[39;00m _array_strptime_with_fallback(arg, name, utc, \u001b[39mformat\u001b[39m, exact, errors)\n\u001b[1;32m--> 455\u001b[0m result, tz_parsed \u001b[39m=\u001b[39m objects_to_datetime64ns(\n\u001b[0;32m    456\u001b[0m     arg,\n\u001b[0;32m    457\u001b[0m     dayfirst\u001b[39m=\u001b[39;49mdayfirst,\n\u001b[0;32m    458\u001b[0m     yearfirst\u001b[39m=\u001b[39;49myearfirst,\n\u001b[0;32m    459\u001b[0m     utc\u001b[39m=\u001b[39;49mutc,\n\u001b[0;32m    460\u001b[0m     errors\u001b[39m=\u001b[39;49merrors,\n\u001b[0;32m    461\u001b[0m     allow_object\u001b[39m=\u001b[39;49m\u001b[39mTrue\u001b[39;49;00m,\n\u001b[0;32m    462\u001b[0m )\n\u001b[0;32m    464\u001b[0m \u001b[39mif\u001b[39;00m tz_parsed \u001b[39mis\u001b[39;00m \u001b[39mnot\u001b[39;00m \u001b[39mNone\u001b[39;00m:\n\u001b[0;32m    465\u001b[0m     \u001b[39m# We can take a shortcut since the datetime64 numpy array\u001b[39;00m\n\u001b[0;32m    466\u001b[0m     \u001b[39m# is in UTC\u001b[39;00m\n\u001b[0;32m    467\u001b[0m     dta \u001b[39m=\u001b[39m DatetimeArray(result, dtype\u001b[39m=\u001b[39mtz_to_dtype(tz_parsed))\n",
      "File \u001b[1;32mc:\\Users\\camd1\\miniconda3\\envs\\MDA-test\\Lib\\site-packages\\pandas\\core\\arrays\\datetimes.py:2177\u001b[0m, in \u001b[0;36mobjects_to_datetime64ns\u001b[1;34m(data, dayfirst, yearfirst, utc, errors, allow_object)\u001b[0m\n\u001b[0;32m   2174\u001b[0m \u001b[39m# if str-dtype, convert\u001b[39;00m\n\u001b[0;32m   2175\u001b[0m data \u001b[39m=\u001b[39m np\u001b[39m.\u001b[39marray(data, copy\u001b[39m=\u001b[39m\u001b[39mFalse\u001b[39;00m, dtype\u001b[39m=\u001b[39mnp\u001b[39m.\u001b[39mobject_)\n\u001b[1;32m-> 2177\u001b[0m result, tz_parsed \u001b[39m=\u001b[39m tslib\u001b[39m.\u001b[39;49marray_to_datetime(\n\u001b[0;32m   2178\u001b[0m     data,\n\u001b[0;32m   2179\u001b[0m     errors\u001b[39m=\u001b[39;49merrors,\n\u001b[0;32m   2180\u001b[0m     utc\u001b[39m=\u001b[39;49mutc,\n\u001b[0;32m   2181\u001b[0m     dayfirst\u001b[39m=\u001b[39;49mdayfirst,\n\u001b[0;32m   2182\u001b[0m     yearfirst\u001b[39m=\u001b[39;49myearfirst,\n\u001b[0;32m   2183\u001b[0m )\n\u001b[0;32m   2185\u001b[0m \u001b[39mif\u001b[39;00m tz_parsed \u001b[39mis\u001b[39;00m \u001b[39mnot\u001b[39;00m \u001b[39mNone\u001b[39;00m:\n\u001b[0;32m   2186\u001b[0m     \u001b[39m# We can take a shortcut since the datetime64 numpy array\u001b[39;00m\n\u001b[0;32m   2187\u001b[0m     \u001b[39m#  is in UTC\u001b[39;00m\n\u001b[0;32m   2188\u001b[0m     \u001b[39m# Return i8 values to denote unix timestamps\u001b[39;00m\n\u001b[0;32m   2189\u001b[0m     \u001b[39mreturn\u001b[39;00m result\u001b[39m.\u001b[39mview(\u001b[39m\"\u001b[39m\u001b[39mi8\u001b[39m\u001b[39m\"\u001b[39m), tz_parsed\n",
      "File \u001b[1;32mc:\\Users\\camd1\\miniconda3\\envs\\MDA-test\\Lib\\site-packages\\pandas\\_libs\\tslib.pyx:402\u001b[0m, in \u001b[0;36mpandas._libs.tslib.array_to_datetime\u001b[1;34m()\u001b[0m\n",
      "File \u001b[1;32mc:\\Users\\camd1\\miniconda3\\envs\\MDA-test\\Lib\\site-packages\\pandas\\_libs\\tslib.pyx:551\u001b[0m, in \u001b[0;36mpandas._libs.tslib.array_to_datetime\u001b[1;34m()\u001b[0m\n",
      "File \u001b[1;32mc:\\Users\\camd1\\miniconda3\\envs\\MDA-test\\Lib\\site-packages\\pandas\\_libs\\tslib.pyx:516\u001b[0m, in \u001b[0;36mpandas._libs.tslib.array_to_datetime\u001b[1;34m()\u001b[0m\n",
      "File \u001b[1;32mc:\\Users\\camd1\\miniconda3\\envs\\MDA-test\\Lib\\site-packages\\pandas\\_libs\\tslibs\\conversion.pyx:557\u001b[0m, in \u001b[0;36mpandas._libs.tslibs.conversion.convert_str_to_tsobject\u001b[1;34m()\u001b[0m\n",
      "File \u001b[1;32mc:\\Users\\camd1\\miniconda3\\envs\\MDA-test\\Lib\\site-packages\\pandas\\_libs\\tslibs\\parsing.pyx:329\u001b[0m, in \u001b[0;36mpandas._libs.tslibs.parsing.parse_datetime_string\u001b[1;34m()\u001b[0m\n",
      "File \u001b[1;32mc:\\Users\\camd1\\miniconda3\\envs\\MDA-test\\Lib\\site-packages\\pandas\\_libs\\tslibs\\parsing.pyx:658\u001b[0m, in \u001b[0;36mpandas._libs.tslibs.parsing.dateutil_parse\u001b[1;34m()\u001b[0m\n",
      "\u001b[1;31mDateParseError\u001b[0m: Unknown datetime string format, unable to parse: 2022-nan-10, at position 0"
     ]
    }
   ],
   "source": [
    "wea_prep = wea_preprocess('../weather/', wea_files, loc_filter(noise_loc, wea_loc))\n",
    "#wea_prep.to_csv('out/wea_prep.csv', index=False)\n",
    "print(wea_prep)"
   ]
  },
  {
   "cell_type": "code",
   "execution_count": 27,
   "metadata": {},
   "outputs": [],
   "source": [
    "noise_event = pl.read_csv(os.path.join(basepath, '2. noise events/', 'csv_results_41_255439_mp-01-naamsestraat-35-maxim.csv'), separator=';')"
   ]
  },
  {
   "cell_type": "code",
   "execution_count": null,
   "metadata": {},
   "outputs": [],
   "source": [
    "print(noise_event.sample(20))"
   ]
  },
  {
   "cell_type": "code",
   "execution_count": 33,
   "metadata": {},
   "outputs": [],
   "source": [
    "noise_event = noise_event.select([\n",
    "        pl.col('result_timestamp').str.extract(r'(\\d{2})/(\\d{2})/\\d{4}\\s(\\d{2}):', 1).cast(pl.Int32).alias('month'),\n",
    "        pl.col('result_timestamp').str.extract(r'(\\d{2})/(\\d{2})/\\d{4}\\s(\\d{2}):', 2).cast(pl.Int32).alias('day'),\n",
    "        pl.col('result_timestamp').str.extract(r'(\\d{2})/(\\d{2})/\\d{4}\\s(\\d{2}):', 3).cast(pl.Int32).alias('hour'),\n",
    "        pl.col('noise_event_laeq_primary_detected_class').alias('event_type').fill_null(\"Nothing\")\n",
    "        ])"
   ]
  },
  {
   "cell_type": "code",
   "execution_count": null,
   "metadata": {},
   "outputs": [],
   "source": [
    "print(noise_event.sample(20))"
   ]
  }
 ],
 "metadata": {
  "kernelspec": {
   "display_name": "MDA-test",
   "language": "python",
   "name": "python3"
  },
  "language_info": {
   "codemirror_mode": {
    "name": "ipython",
    "version": 3
   },
   "file_extension": ".py",
   "mimetype": "text/x-python",
   "name": "python",
   "nbconvert_exporter": "python",
   "pygments_lexer": "ipython3",
   "version": "3.11.3"
  },
  "orig_nbformat": 4
 },
 "nbformat": 4,
 "nbformat_minor": 2
}
