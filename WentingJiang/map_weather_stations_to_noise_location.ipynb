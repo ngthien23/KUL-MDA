{
 "cells": [
  {
   "cell_type": "code",
   "execution_count": 29,
   "id": "d6bd1344",
   "metadata": {},
   "outputs": [],
   "source": [
    "import pandas as pd\n",
    "from IPython.display import IFrame\n",
    "import folium\n",
    "import seaborn as sns"
   ]
  },
  {
   "cell_type": "code",
   "execution_count": 30,
   "id": "db8d95b1",
   "metadata": {},
   "outputs": [],
   "source": [
    "folder='/Users/wentingjiang/Desktop/mda_kul_local/'"
   ]
  },
  {
   "cell_type": "code",
   "execution_count": 31,
   "id": "bc132c73",
   "metadata": {},
   "outputs": [],
   "source": [
    "df_weather=pd.read_csv(folder+'LC_2022Q3.csv') # read only the last quarter day for now\n",
    "df_meta= pd.read_csv(folder+'01_Metadata_v2.csv')\n",
    "df = df_weather.merge(df_meta, on='ID', how='left')"
   ]
  },
  {
   "cell_type": "code",
   "execution_count": 32,
   "id": "232a28de",
   "metadata": {},
   "outputs": [],
   "source": [
    "locations = {\n",
    "    'Naamsestraat 35  Maxim': (50.877264309031936, 4.700555462690086), #club\n",
    "    'Naamsestraat 62 Taste': (50.87590763475016, 4.700203945323124), #bar\n",
    "    'Calvariekapel KU Leuven': (50.87458499798096, 4.700163240066998), #chapel\n",
    "    'Parkstraat 2 La Filosovia': (50.87414577683852, 4.700033858853713), #restaurant\n",
    " #   'bis - Vrijthof': (50.874710, 4.704792),\n",
    "    'Naamsestraat 57 Xior': (50.87662594018794, 4.70070237796116), # studenthousing\n",
    "    'Naamsestraat 81': (50.87397388816172, 4.700117807627097), #building\n",
    "    'His & Hears': (50.875361066623924, 4.700103994673989) #hair salon\n",
    "} "
   ]
  },
  {
   "cell_type": "code",
   "execution_count": 33,
   "id": "cd1d4f56",
   "metadata": {
    "scrolled": true
   },
   "outputs": [],
   "source": [
    "from geopy import Point\n",
    "from geopy.distance import distance\n",
    "\n",
    "# Load dataframe with lon and lat columns as df\n",
    "\n",
    "# Create empty dictionary\n",
    "location_weather_df = {}\n",
    "location_weather_station={}\n",
    "\n",
    "# Iterate through each coordinate in locations dictionary\n",
    "for key, coord in locations.items():\n",
    "    \n",
    "    # Define distance of 200 meters\n",
    "    d = distance(kilometers=0.200)\n",
    "    # Define box coordinates\n",
    "    sw = d.destination(point=coord, bearing=225)\n",
    "    ne = d.destination(point=coord, bearing=45)\n",
    "\n",
    "    # Filter dataframe based on distance from current coordinate\n",
    "    mask = (df['LAT'] > sw.latitude) & (df['LAT'] < ne.latitude) & \\\n",
    "           (df['LON'] > sw.longitude) & (df['LON'] < ne.longitude)\n",
    "    filtered_df = df.loc[mask]\n",
    "    #print(filtered_df.shape)\n",
    "\n",
    "    # Add filtered dataframe to dictionary with current coordinate as key\n",
    "    location_weather_df[key] = filtered_df\n",
    "    \n",
    "    #just take the first one, may not the be closest\n",
    "    location_weather_station[key]=list(filtered_df['ID'].unique())#[0]"
   ]
  },
  {
   "cell_type": "code",
   "execution_count": 34,
   "id": "bbe74cf5",
   "metadata": {
    "scrolled": false
   },
   "outputs": [
    {
     "data": {
      "text/plain": [
       "{'Naamsestraat 35  Maxim': ['LC-102', 'LC-117'],\n",
       " 'Naamsestraat 62 Taste': ['LC-112', 'LC-117', 'LC-118'],\n",
       " 'Calvariekapel KU Leuven': ['LC-112', 'LC-118'],\n",
       " 'Parkstraat 2 La Filosovia': ['LC-109', 'LC-112', 'LC-118'],\n",
       " 'Naamsestraat 57 Xior': ['LC-117'],\n",
       " 'Naamsestraat 81': ['LC-109', 'LC-112', 'LC-118'],\n",
       " 'His & Hears': ['LC-112', 'LC-118']}"
      ]
     },
     "execution_count": 34,
     "metadata": {},
     "output_type": "execute_result"
    }
   ],
   "source": [
    "location_weather_station"
   ]
  }
 ],
 "metadata": {
  "kernelspec": {
   "display_name": "Python 3 (ipykernel)",
   "language": "python",
   "name": "python3"
  },
  "language_info": {
   "codemirror_mode": {
    "name": "ipython",
    "version": 3
   },
   "file_extension": ".py",
   "mimetype": "text/x-python",
   "name": "python",
   "nbconvert_exporter": "python",
   "pygments_lexer": "ipython3",
   "version": "3.9.13"
  }
 },
 "nbformat": 4,
 "nbformat_minor": 5
}
