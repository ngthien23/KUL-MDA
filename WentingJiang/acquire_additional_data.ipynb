{
 "cells": [
  {
   "cell_type": "code",
   "execution_count": 3,
   "id": "f0a1a63c",
   "metadata": {},
   "outputs": [],
   "source": [
    "import pandas as pd"
   ]
  },
  {
   "cell_type": "markdown",
   "id": "8d4c2e16",
   "metadata": {},
   "source": [
    "# FIFA 2022"
   ]
  },
  {
   "cell_type": "code",
   "execution_count": 8,
   "id": "9392adf6",
   "metadata": {},
   "outputs": [
    {
     "data": {
      "text/plain": [
       "43"
      ]
     },
     "execution_count": 8,
     "metadata": {},
     "output_type": "execute_result"
    }
   ],
   "source": [
    "# date for each game in the group stage\n",
    "# if a date repeats, it means there are two games at this date\n",
    "# consider to add the time of the event as well\n",
    "date=['2022-11-20', '2022-11-21', '2022-11-21', '2022-11-22', '2022-11-22', '2022-11-22', '2022-11-22', '2022-11-23', '2022-11-23', '2022-11-23', '2022-11-23', '2022-11-24', '2022-11-24', '2022-11-24', '2022-11-24', '2022-11-25', '2022-11-25', '2022-11-25', '2022-11-25', '2022-11-26', '2022-11-26', '2022-11-26', '2022-11-26', '2022-11-27', '2022-11-27', '2022-11-27', '2022-11-27', '2022-11-28', '2022-11-28', '2022-11-28', '2022-11-28', '2022-11-29', '2022-11-29', '2022-11-30', '2022-11-30', '2022-11-30', '2022-11-30', '2022-12-01', '2022-12-01', '2022-12-02', '2022-12-02', '2022-12-03', '2022-12-03']\n",
    "len(date)"
   ]
  },
  {
   "cell_type": "code",
   "execution_count": 9,
   "id": "6e1c29af",
   "metadata": {},
   "outputs": [
    {
     "data": {
      "text/html": [
       "<div>\n",
       "<style scoped>\n",
       "    .dataframe tbody tr th:only-of-type {\n",
       "        vertical-align: middle;\n",
       "    }\n",
       "\n",
       "    .dataframe tbody tr th {\n",
       "        vertical-align: top;\n",
       "    }\n",
       "\n",
       "    .dataframe thead th {\n",
       "        text-align: right;\n",
       "    }\n",
       "</style>\n",
       "<table border=\"1\" class=\"dataframe\">\n",
       "  <thead>\n",
       "    <tr style=\"text-align: right;\">\n",
       "      <th></th>\n",
       "      <th>Date</th>\n",
       "    </tr>\n",
       "  </thead>\n",
       "  <tbody>\n",
       "    <tr>\n",
       "      <th>0</th>\n",
       "      <td>2022-11-20</td>\n",
       "    </tr>\n",
       "    <tr>\n",
       "      <th>1</th>\n",
       "      <td>2022-11-21</td>\n",
       "    </tr>\n",
       "    <tr>\n",
       "      <th>2</th>\n",
       "      <td>2022-11-21</td>\n",
       "    </tr>\n",
       "    <tr>\n",
       "      <th>3</th>\n",
       "      <td>2022-11-22</td>\n",
       "    </tr>\n",
       "    <tr>\n",
       "      <th>4</th>\n",
       "      <td>2022-11-22</td>\n",
       "    </tr>\n",
       "  </tbody>\n",
       "</table>\n",
       "</div>"
      ],
      "text/plain": [
       "         Date\n",
       "0  2022-11-20\n",
       "1  2022-11-21\n",
       "2  2022-11-21\n",
       "3  2022-11-22\n",
       "4  2022-11-22"
      ]
     },
     "execution_count": 9,
     "metadata": {},
     "output_type": "execute_result"
    }
   ],
   "source": [
    "data = {'Date': date}\n",
    "df = pd.DataFrame(data)\n",
    "df.head()"
   ]
  },
  {
   "cell_type": "code",
   "execution_count": 10,
   "id": "b4946c09",
   "metadata": {},
   "outputs": [],
   "source": [
    "df.to_csv('fifa_dates.csv', index=None)"
   ]
  },
  {
   "cell_type": "markdown",
   "id": "0ca032fc",
   "metadata": {},
   "source": [
    "# Semester dates"
   ]
  },
  {
   "cell_type": "code",
   "execution_count": 6,
   "id": "784fb05f",
   "metadata": {},
   "outputs": [],
   "source": [
    "semester_dates={\n",
    "    '2022-01-01': \"New Year's Day (Bank holiday)\",\n",
    "    '2022-01-10': \"Study period until Thursday January 13, Start of the first examination period\",\n",
    "    '2022-02-02': \"KU Leuven Patron Saint's Day Celebration (Bank holiday)\",\n",
    "    '2022-02-05': \"End of the first examination period, No classes until Sunday 13 February\",\n",
    "    '2022-02-14': \"Start of second semester\",\n",
    "    '2022-04-02': \"Easter holiday from Saturday 2 April until Monday 18 April\",\n",
    "    '2022-04-17': \"Easter\",\n",
    "    '2022-04-18': \"Easter Monday (Bank holiday)\",\n",
    "    '2022-05-01': \"Labour Day (Bank holiday)\",\n",
    "    '2022-05-26': \"Feast of the Ascension (Bank holiday)\",\n",
    "    '2022-05-28': \"End of second semester classes, Study period until Sunday 12 June\",\n",
    "    '2022-06-05': \"Pentecost\",\n",
    "    '2022-06-06': \"Pentecost Monday (Bank holiday)\",\n",
    "    '2022-06-13': \"Start of second examination period\",\n",
    "    '2022-07-02': \"End of second examination period\",\n",
    "    '2022-07-04': \"Start of examination board meetings\",\n",
    "    '2022-07-09': \"End of examination board meetings\",\n",
    "    '2022-07-11': \"Holiday of the Flemish Community (Bank holiday)\",\n",
    "    '2022-07-21': \"Belgian National Holiday (Bank holiday)\",\n",
    "    '2022-08-15': \"Assumption of Mary (Bank holiday)\",\n",
    "    '2022-08-16': \"Start of registration for the 2022-2023 academic year\",\n",
    "    '2022-09-05': \"Monday of Leuven Funfair (Bank holiday)\",\n",
    "    '2022-09-10': \"End of third examination period\",\n",
    "    '2022-09-12': \"Start of examination board meetings\",\n",
    "    '2022-09-17': \"End of examination board meetings\",\n",
    "    '2022-09-26': \"Opening academic year 2022-2023 in Leuven\",\n",
    "    '2022-10-01': \"All Saints (Bank holiday)\",\n",
    "    '2022-10-02': \"All Souls' Day (Bank holiday)\",\n",
    "    '2022-10-11': \"Armistice Day (Bank holiday)\",\n",
    "    '2022-12-24': \"End of first semester classes, Christmas holiday from Saturday 24 December until Sunday 8 January\",\n",
    "    '2022-12-25': \"Christmas (Bank holiday)\",\n",
    "    '2022-12-26': \"Boxing Day (Bank holiday)\"\n",
    "}"
   ]
  },
  {
   "cell_type": "code",
   "execution_count": 7,
   "id": "94e06cd2",
   "metadata": {
    "scrolled": true
   },
   "outputs": [
    {
     "ename": "ValueError",
     "evalue": "If using all scalar values, you must pass an index",
     "output_type": "error",
     "traceback": [
      "\u001b[0;31m---------------------------------------------------------------------------\u001b[0m",
      "\u001b[0;31mValueError\u001b[0m                                Traceback (most recent call last)",
      "\u001b[0;32m/var/folders/ps/310fvxcx6y55_xvdkg77780h0000gn/T/ipykernel_26565/2661511983.py\u001b[0m in \u001b[0;36m<module>\u001b[0;34m\u001b[0m\n\u001b[0;32m----> 1\u001b[0;31m \u001b[0mdf2\u001b[0m \u001b[0;34m=\u001b[0m \u001b[0mpd\u001b[0m\u001b[0;34m.\u001b[0m\u001b[0mDataFrame\u001b[0m\u001b[0;34m(\u001b[0m\u001b[0msemester_dates\u001b[0m\u001b[0;34m)\u001b[0m\u001b[0;34m\u001b[0m\u001b[0;34m\u001b[0m\u001b[0m\n\u001b[0m\u001b[1;32m      2\u001b[0m \u001b[0mdf2\u001b[0m\u001b[0;34m.\u001b[0m\u001b[0mhead\u001b[0m\u001b[0;34m(\u001b[0m\u001b[0;34m)\u001b[0m\u001b[0;34m\u001b[0m\u001b[0;34m\u001b[0m\u001b[0m\n",
      "\u001b[0;32m~/opt/anaconda3/lib/python3.9/site-packages/pandas/core/frame.py\u001b[0m in \u001b[0;36m__init__\u001b[0;34m(self, data, index, columns, dtype, copy)\u001b[0m\n\u001b[1;32m    706\u001b[0m         \u001b[0;32melif\u001b[0m \u001b[0misinstance\u001b[0m\u001b[0;34m(\u001b[0m\u001b[0mdata\u001b[0m\u001b[0;34m,\u001b[0m \u001b[0mdict\u001b[0m\u001b[0;34m)\u001b[0m\u001b[0;34m:\u001b[0m\u001b[0;34m\u001b[0m\u001b[0;34m\u001b[0m\u001b[0m\n\u001b[1;32m    707\u001b[0m             \u001b[0;31m# GH#38939 de facto copy defaults to False only in non-dict cases\u001b[0m\u001b[0;34m\u001b[0m\u001b[0;34m\u001b[0m\u001b[0m\n\u001b[0;32m--> 708\u001b[0;31m             \u001b[0mmgr\u001b[0m \u001b[0;34m=\u001b[0m \u001b[0mdict_to_mgr\u001b[0m\u001b[0;34m(\u001b[0m\u001b[0mdata\u001b[0m\u001b[0;34m,\u001b[0m \u001b[0mindex\u001b[0m\u001b[0;34m,\u001b[0m \u001b[0mcolumns\u001b[0m\u001b[0;34m,\u001b[0m \u001b[0mdtype\u001b[0m\u001b[0;34m=\u001b[0m\u001b[0mdtype\u001b[0m\u001b[0;34m,\u001b[0m \u001b[0mcopy\u001b[0m\u001b[0;34m=\u001b[0m\u001b[0mcopy\u001b[0m\u001b[0;34m,\u001b[0m \u001b[0mtyp\u001b[0m\u001b[0;34m=\u001b[0m\u001b[0mmanager\u001b[0m\u001b[0;34m)\u001b[0m\u001b[0;34m\u001b[0m\u001b[0;34m\u001b[0m\u001b[0m\n\u001b[0m\u001b[1;32m    709\u001b[0m         \u001b[0;32melif\u001b[0m \u001b[0misinstance\u001b[0m\u001b[0;34m(\u001b[0m\u001b[0mdata\u001b[0m\u001b[0;34m,\u001b[0m \u001b[0mma\u001b[0m\u001b[0;34m.\u001b[0m\u001b[0mMaskedArray\u001b[0m\u001b[0;34m)\u001b[0m\u001b[0;34m:\u001b[0m\u001b[0;34m\u001b[0m\u001b[0;34m\u001b[0m\u001b[0m\n\u001b[1;32m    710\u001b[0m             \u001b[0;32mfrom\u001b[0m \u001b[0mnumpy\u001b[0m\u001b[0;34m.\u001b[0m\u001b[0mma\u001b[0m \u001b[0;32mimport\u001b[0m \u001b[0mmrecords\u001b[0m\u001b[0;34m\u001b[0m\u001b[0;34m\u001b[0m\u001b[0m\n",
      "\u001b[0;32m~/opt/anaconda3/lib/python3.9/site-packages/pandas/core/internals/construction.py\u001b[0m in \u001b[0;36mdict_to_mgr\u001b[0;34m(data, index, columns, dtype, typ, copy)\u001b[0m\n\u001b[1;32m    479\u001b[0m             \u001b[0marrays\u001b[0m \u001b[0;34m=\u001b[0m \u001b[0;34m[\u001b[0m\u001b[0mx\u001b[0m\u001b[0;34m.\u001b[0m\u001b[0mcopy\u001b[0m\u001b[0;34m(\u001b[0m\u001b[0;34m)\u001b[0m \u001b[0;32mif\u001b[0m \u001b[0mhasattr\u001b[0m\u001b[0;34m(\u001b[0m\u001b[0mx\u001b[0m\u001b[0;34m,\u001b[0m \u001b[0;34m\"dtype\"\u001b[0m\u001b[0;34m)\u001b[0m \u001b[0;32melse\u001b[0m \u001b[0mx\u001b[0m \u001b[0;32mfor\u001b[0m \u001b[0mx\u001b[0m \u001b[0;32min\u001b[0m \u001b[0marrays\u001b[0m\u001b[0;34m]\u001b[0m\u001b[0;34m\u001b[0m\u001b[0;34m\u001b[0m\u001b[0m\n\u001b[1;32m    480\u001b[0m \u001b[0;34m\u001b[0m\u001b[0m\n\u001b[0;32m--> 481\u001b[0;31m     \u001b[0;32mreturn\u001b[0m \u001b[0marrays_to_mgr\u001b[0m\u001b[0;34m(\u001b[0m\u001b[0marrays\u001b[0m\u001b[0;34m,\u001b[0m \u001b[0mcolumns\u001b[0m\u001b[0;34m,\u001b[0m \u001b[0mindex\u001b[0m\u001b[0;34m,\u001b[0m \u001b[0mdtype\u001b[0m\u001b[0;34m=\u001b[0m\u001b[0mdtype\u001b[0m\u001b[0;34m,\u001b[0m \u001b[0mtyp\u001b[0m\u001b[0;34m=\u001b[0m\u001b[0mtyp\u001b[0m\u001b[0;34m,\u001b[0m \u001b[0mconsolidate\u001b[0m\u001b[0;34m=\u001b[0m\u001b[0mcopy\u001b[0m\u001b[0;34m)\u001b[0m\u001b[0;34m\u001b[0m\u001b[0;34m\u001b[0m\u001b[0m\n\u001b[0m\u001b[1;32m    482\u001b[0m \u001b[0;34m\u001b[0m\u001b[0m\n\u001b[1;32m    483\u001b[0m \u001b[0;34m\u001b[0m\u001b[0m\n",
      "\u001b[0;32m~/opt/anaconda3/lib/python3.9/site-packages/pandas/core/internals/construction.py\u001b[0m in \u001b[0;36marrays_to_mgr\u001b[0;34m(arrays, columns, index, dtype, verify_integrity, typ, consolidate)\u001b[0m\n\u001b[1;32m    113\u001b[0m         \u001b[0;31m# figure out the index, if necessary\u001b[0m\u001b[0;34m\u001b[0m\u001b[0;34m\u001b[0m\u001b[0m\n\u001b[1;32m    114\u001b[0m         \u001b[0;32mif\u001b[0m \u001b[0mindex\u001b[0m \u001b[0;32mis\u001b[0m \u001b[0;32mNone\u001b[0m\u001b[0;34m:\u001b[0m\u001b[0;34m\u001b[0m\u001b[0;34m\u001b[0m\u001b[0m\n\u001b[0;32m--> 115\u001b[0;31m             \u001b[0mindex\u001b[0m \u001b[0;34m=\u001b[0m \u001b[0m_extract_index\u001b[0m\u001b[0;34m(\u001b[0m\u001b[0marrays\u001b[0m\u001b[0;34m)\u001b[0m\u001b[0;34m\u001b[0m\u001b[0;34m\u001b[0m\u001b[0m\n\u001b[0m\u001b[1;32m    116\u001b[0m         \u001b[0;32melse\u001b[0m\u001b[0;34m:\u001b[0m\u001b[0;34m\u001b[0m\u001b[0;34m\u001b[0m\u001b[0m\n\u001b[1;32m    117\u001b[0m             \u001b[0mindex\u001b[0m \u001b[0;34m=\u001b[0m \u001b[0mensure_index\u001b[0m\u001b[0;34m(\u001b[0m\u001b[0mindex\u001b[0m\u001b[0;34m)\u001b[0m\u001b[0;34m\u001b[0m\u001b[0;34m\u001b[0m\u001b[0m\n",
      "\u001b[0;32m~/opt/anaconda3/lib/python3.9/site-packages/pandas/core/internals/construction.py\u001b[0m in \u001b[0;36m_extract_index\u001b[0;34m(data)\u001b[0m\n\u001b[1;32m    643\u001b[0m \u001b[0;34m\u001b[0m\u001b[0m\n\u001b[1;32m    644\u001b[0m     \u001b[0;32mif\u001b[0m \u001b[0;32mnot\u001b[0m \u001b[0mindexes\u001b[0m \u001b[0;32mand\u001b[0m \u001b[0;32mnot\u001b[0m \u001b[0mraw_lengths\u001b[0m\u001b[0;34m:\u001b[0m\u001b[0;34m\u001b[0m\u001b[0;34m\u001b[0m\u001b[0m\n\u001b[0;32m--> 645\u001b[0;31m         \u001b[0;32mraise\u001b[0m \u001b[0mValueError\u001b[0m\u001b[0;34m(\u001b[0m\u001b[0;34m\"If using all scalar values, you must pass an index\"\u001b[0m\u001b[0;34m)\u001b[0m\u001b[0;34m\u001b[0m\u001b[0;34m\u001b[0m\u001b[0m\n\u001b[0m\u001b[1;32m    646\u001b[0m \u001b[0;34m\u001b[0m\u001b[0m\n\u001b[1;32m    647\u001b[0m     \u001b[0;32mif\u001b[0m \u001b[0mhave_series\u001b[0m\u001b[0;34m:\u001b[0m\u001b[0;34m\u001b[0m\u001b[0;34m\u001b[0m\u001b[0m\n",
      "\u001b[0;31mValueError\u001b[0m: If using all scalar values, you must pass an index"
     ]
    }
   ],
   "source": [
    "df2 = pd.DataFrame(semester_dates)\n",
    "df2.head()"
   ]
  },
  {
   "cell_type": "code",
   "execution_count": 11,
   "id": "c3b09058",
   "metadata": {},
   "outputs": [],
   "source": [
    "data = {\n",
    "\n",
    "    '2022-01-01': \"New Year's Day (Bank holiday)\",\n",
    "    '2022-01-10': \"Study period until Thursday January 13, Start of the first examination period\",\n",
    "    '2022-02-02': \"KU Leuven Patron Saint's Day Celebration (Bank holiday)\",\n",
    "    '2022-02-05': \"End of the first examination period, No classes until Sunday 13 February\",\n",
    "    '2022-02-14': \"Start of second semester\",\n",
    "    '2022-04-02': \"Easter holiday from Saturday 2 April until Monday 18 April\",\n",
    "    '2022-04-17': \"Easter\",\n",
    "    '2022-04-18': \"Easter Monday (Bank holiday)\",\n",
    "    '2022-05-01': \"Labour Day (Bank holiday)\",\n",
    "    '2022-05-26': \"Feast of the Ascension (Bank holiday)\",\n",
    "    '2022-05-28': \"End of second semester classes, Study period until Sunday 12 June\",\n",
    "    '2022-06-05': \"Pentecost\",\n",
    "    '2022-06-06': \"Pentecost Monday (Bank holiday)\",\n",
    "    '2022-06-13': \"Start of second examination period\",\n",
    "    '2022-07-02': \"End of second examination period\",\n",
    "    '2022-07-04': \"Start of examination board meetings\",\n",
    "    '2022-07-09': \"End of examination board meetings\",\n",
    "    '2022-07-11': \"Holiday of the Flemish Community (Bank holiday)\",\n",
    "    '2022-07-21': \"Belgian National Holiday (Bank holiday)\",\n",
    "    '2022-08-15': \"Assumption of Mary (Bank holiday)\",\n",
    "    '2022-08-16': \"Start of registration for the 2022-2023 academic year\",\n",
    "    '2022-09-05': \"Monday of Leuven Funfair (Bank holiday)\",\n",
    "    '2022-09-10': \"End of third examination period\",\n",
    "    '2022-09-12': \"Start of examination board meetings\",\n",
    "    '2022-09-17': \"End of examination board meetings\",\n",
    "        '2022-09-26': \"Opening academic year 2022-2023 in Leuven\",\n",
    "    '2022-10-01': \"All Saints (Bank holiday)\",\n",
    "    '2022-10-02': \"All Souls' Day (Bank holiday)\",\n",
    "    '2022-10-11': \"Armistice Day (Bank holiday)\",\n",
    "    '2022-12-24': \"End of first semester classes, Christmas holiday from Saturday 24 December until Sunday 8 January\",\n",
    "    '2022-12-25': \"Christmas (Bank holiday)\",\n",
    "    '2022-12-26': \"Boxing Day (Bank holiday)\"\n",
    "}\n",
    "\n",
    "df2 = pd.DataFrame.from_dict(data, orient='index', columns=['Holiday'])\n",
    "df2.index.name = 'Date'\n",
    "#df2.head()"
   ]
  },
  {
   "cell_type": "code",
   "execution_count": 13,
   "id": "13c7e369",
   "metadata": {},
   "outputs": [],
   "source": [
    "df2.to_csv('../Additional_Data/semester_dates.csv')"
   ]
  },
  {
   "cell_type": "code",
   "execution_count": 12,
   "id": "5bef5b27",
   "metadata": {},
   "outputs": [],
   "source": [
    "#pd.read_csv('../Additional_Data/semester_dates.csv')"
   ]
  },
  {
   "cell_type": "markdown",
   "id": "d765cce1",
   "metadata": {},
   "source": [
    "# Concerts"
   ]
  },
  {
   "cell_type": "code",
   "execution_count": 14,
   "id": "05a4e784",
   "metadata": {},
   "outputs": [],
   "source": [
    "concerts = {\n",
    "    '11.03.2022': 'Sylvie Kreusch',\n",
    "    '12.03.2022': 'Oldskool Leuven XL',\n",
    "    '25.03.2022': 'Brutus',\n",
    "    '26.03.2022': 'Yevgueni',\n",
    "    '27.03.2022': 'Yevgueni',\n",
    "    '30.03.2022': 'The Sore Losers + DeWolff',\n",
    "    '03.04.2022': 'Cory Wong',\n",
    "    '09.04.2022': 'Shht',\n",
    "    '12.04.2022': 'The Haunted Youth',\n",
    "    '19.04.2022': 'Admiral Freebee',\n",
    "    '22.04.2022': 'Eefje de Visser',\n",
    "    '26.04.2022': 'Protoje',\n",
    "    '30.04.2022': 'Feest!',\n",
    "    '21.05.2022': 'Soulsister',\n",
    "    '28.05.2022': 'Nick Waterhouse',\n",
    "    '30.05.2022': 'JJ Wilde',\n",
    "    '09.06.2022': 'TaxiWars',\n",
    "    '11.06.2022': 'YES',\n",
    "    '12.06.2022': 'Frazey Ford',\n",
    "    '20.06.2022': 'Suzanne Vega',\n",
    "    '21.09.2022': 'De Kreuners',\n",
    "    '22.09.2022': 'De Kreuners',\n",
    "    '29.09.2022': 'Lettuce',\n",
    "    '02.02.2022': 'Femi Kuti',\n",
    "    '04.10.2022': 'Madeleine Peyroux',\n",
    "    '08.10.2022': 'Mudhoney',\n",
    "    '09.10.2022': 'Levellers',\n",
    "    '10.10.2022': 'Heather Nova',\n",
    "    '21.10.2022': 'Alfa Mist',\n",
    "    '25.10.2022': 'Groundation',\n",
    "    '29.10.2022': 'Duncan Laurence',\n",
    "    '14.11.2022': 'Lizz Wright',\n",
    "    '20.12.2022': 'Axelle Red: a very special Christmas',\n",
    "    '23.03.2023': 'Blackberry Smoke',\n",
    "    '22.04.2023': 'The Mission'\n",
    "}"
   ]
  },
  {
   "cell_type": "code",
   "execution_count": 15,
   "id": "b51b39b7",
   "metadata": {
    "scrolled": true
   },
   "outputs": [
    {
     "data": {
      "text/html": [
       "<div>\n",
       "<style scoped>\n",
       "    .dataframe tbody tr th:only-of-type {\n",
       "        vertical-align: middle;\n",
       "    }\n",
       "\n",
       "    .dataframe tbody tr th {\n",
       "        vertical-align: top;\n",
       "    }\n",
       "\n",
       "    .dataframe thead th {\n",
       "        text-align: right;\n",
       "    }\n",
       "</style>\n",
       "<table border=\"1\" class=\"dataframe\">\n",
       "  <thead>\n",
       "    <tr style=\"text-align: right;\">\n",
       "      <th></th>\n",
       "      <th>Holiday</th>\n",
       "    </tr>\n",
       "    <tr>\n",
       "      <th>Date</th>\n",
       "      <th></th>\n",
       "    </tr>\n",
       "  </thead>\n",
       "  <tbody>\n",
       "    <tr>\n",
       "      <th>11.03.2022</th>\n",
       "      <td>Sylvie Kreusch</td>\n",
       "    </tr>\n",
       "    <tr>\n",
       "      <th>12.03.2022</th>\n",
       "      <td>Oldskool Leuven XL</td>\n",
       "    </tr>\n",
       "    <tr>\n",
       "      <th>25.03.2022</th>\n",
       "      <td>Brutus</td>\n",
       "    </tr>\n",
       "    <tr>\n",
       "      <th>26.03.2022</th>\n",
       "      <td>Yevgueni</td>\n",
       "    </tr>\n",
       "    <tr>\n",
       "      <th>27.03.2022</th>\n",
       "      <td>Yevgueni</td>\n",
       "    </tr>\n",
       "  </tbody>\n",
       "</table>\n",
       "</div>"
      ],
      "text/plain": [
       "                       Holiday\n",
       "Date                          \n",
       "11.03.2022      Sylvie Kreusch\n",
       "12.03.2022  Oldskool Leuven XL\n",
       "25.03.2022              Brutus\n",
       "26.03.2022            Yevgueni\n",
       "27.03.2022            Yevgueni"
      ]
     },
     "execution_count": 15,
     "metadata": {},
     "output_type": "execute_result"
    }
   ],
   "source": [
    "df3 = pd.DataFrame.from_dict(concerts, orient='index', columns=['Holiday'])\n",
    "df3.index.name = 'Date'\n",
    "df3.head()"
   ]
  },
  {
   "cell_type": "code",
   "execution_count": 16,
   "id": "3a7fe276",
   "metadata": {},
   "outputs": [],
   "source": [
    "df3.to_csv('../Additional_Data/concerts.csv')"
   ]
  },
  {
   "cell_type": "code",
   "execution_count": null,
   "id": "9a80cdec",
   "metadata": {},
   "outputs": [],
   "source": []
  }
 ],
 "metadata": {
  "kernelspec": {
   "display_name": "Python 3 (ipykernel)",
   "language": "python",
   "name": "python3"
  },
  "language_info": {
   "codemirror_mode": {
    "name": "ipython",
    "version": 3
   },
   "file_extension": ".py",
   "mimetype": "text/x-python",
   "name": "python",
   "nbconvert_exporter": "python",
   "pygments_lexer": "ipython3",
   "version": "3.9.13"
  }
 },
 "nbformat": 4,
 "nbformat_minor": 5
}
